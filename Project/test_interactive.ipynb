{
 "cells": [
  {
   "cell_type": "markdown",
   "metadata": {},
   "source": [
    "### Modules"
   ]
  },
  {
   "cell_type": "code",
   "execution_count": 1,
   "metadata": {},
   "outputs": [],
   "source": [
    "from src.functions import *\n",
    "from src.environment_generator import *\n",
    "from src.environment_toPddl import *\n",
    "import task_problems.problem_1.environment_configurations as p1_configurations\n",
    "import task_problems.problem_2.environment_configurations as p2_configurations\n",
    "import task_problems.problem_3.environment_configurations as p3_configurations\n",
    "import task_problems.problem_3.environment_configurations as p4_configurations"
   ]
  },
  {
   "cell_type": "markdown",
   "metadata": {},
   "source": [
    "### Problem 1\n"
   ]
  },
  {
   "cell_type": "code",
   "execution_count": null,
   "metadata": {},
   "outputs": [],
   "source": [
    "# Generate environment\n",
    "P1_LANG = 'pddl'\n",
    "ENVIRONMENT_CONFIGURATION = 'config_3'\n",
    "\n",
    "p1_environment = Environment_generator(\n",
    "    configuration = p1_configurations.configurations[ENVIRONMENT_CONFIGURATION], \n",
    "    problem_id = 'P1', \n",
    "    verbose = True\n",
    ")\n",
    "\n",
    "p1_environment_pddl = Environment_toPDDL(\n",
    "    env = p1_environment, \n",
    "    baseline_path = 'task_problems/problem_1', \n",
    "    lang = P1_LANG, \n",
    "    verbose = True\n",
    ")"
   ]
  },
  {
   "cell_type": "code",
   "execution_count": null,
   "metadata": {},
   "outputs": [],
   "source": [
    "# Generate plan\n",
    "PLANNER = 'lama-first'  # dual-bfws-ffparser, ff, lama-first, downward\n",
    "\n",
    "# lama args: --alias lama-first\n",
    "# bfws args: --max_novelty 2 --use-hff 1\n",
    "# ff args:\n",
    "# downward args: (before) --alias lama-first (after)\n",
    "\n",
    "ARGS = '' \n",
    "ARGS_BEFORE = ''\n",
    "\n",
    "output = request_plan(p1_environment_pddl.path, PLANNER, ARGS, lang = P1_LANG, args_before = ARGS_BEFORE)\n",
    "print(output.stdout)\n",
    "print(output.stderr)"
   ]
  },
  {
   "cell_type": "markdown",
   "metadata": {},
   "source": [
    "### Problem 2"
   ]
  },
  {
   "cell_type": "code",
   "execution_count": null,
   "metadata": {},
   "outputs": [],
   "source": [
    "# Generate environment\n",
    "P2_LANG = 'pddl'\n",
    "ENVIRONMENT_CONFIGURATION = 'config_3'\n",
    "\n",
    "p2_environment = Environment_generator(\n",
    "    configuration = p2_configurations.configurations[ENVIRONMENT_CONFIGURATION], \n",
    "    problem_id = 'P2', \n",
    "    verbose = True\n",
    ")\n",
    "\n",
    "p2_environment_pddl = Environment_toPDDL(\n",
    "    env = p2_environment, \n",
    "    baseline_path = 'task_problems/problem_2', \n",
    "    domain_type = 'no_flt', \n",
    "    lang = P2_LANG, \n",
    "    verbose = True\n",
    ")"
   ]
  },
  {
   "cell_type": "code",
   "execution_count": null,
   "metadata": {},
   "outputs": [],
   "source": [
    "# Generate plan\n",
    "\n",
    "PLANNER = 'downward'  # lama-first, ff, dual-bfws-ffparser, dawnward\n",
    "\n",
    "# lama args: --alias lama-first\n",
    "# bfws args: --max_novelty 2 --use-hff 1\n",
    "# ff args:\n",
    "# downward args: (before) --alias lama-first (after)\n",
    "\n",
    "ARGS = '' \n",
    "ARGS_BEFORE = '--alias lama-first'\n",
    "\n",
    "output = request_plan(p2_environment_pddl.path, PLANNER, ARGS, lang = P2_LANG, args_before=ARGS_BEFORE)\n",
    "\n",
    "print(output.stderr)\n",
    "print(output.stdout)"
   ]
  },
  {
   "cell_type": "markdown",
   "metadata": {},
   "source": [
    "### Problem 3\n"
   ]
  },
  {
   "cell_type": "code",
   "execution_count": 2,
   "metadata": {},
   "outputs": [
    {
     "name": "stdout",
     "output_type": "stream",
     "text": [
      "Environment info:\n",
      " - Environment size: 6x6\n",
      " - Active area: 30 (83.33333333333334%)\n",
      " - Warehouses: 1\n",
      " - Agents: 2\n",
      " - Workstations: 2\n",
      " - Supply types: 4\n",
      " - Supplies: 8\n",
      " - Boxes available: 20\n",
      " - Carriers: 2\n",
      "Examples:\n",
      " - Warehouse encoded: [warehouse_0, Position(x=1, y=5)]\n",
      " - Agent encoded: [agent_0, Position(x=1, y=5)]\n",
      " - Workstation encoded: [workstation_0, Position(x=1, y=4), O:set(), N:{[supply_3, Position(x=1, y=5), bolt], [supply_5, Position(x=1, y=5), tool], [supply_7, Position(x=1, y=5), gear], [supply_1, Position(x=1, y=5), valve]}]\n",
      " - Supplies encoded: ('supply_0', [supply_0, Position(x=1, y=5), valve])\n",
      " - Box encoded: [box_0, Position(x=1, y=5)]\n",
      " - Carriers encoded: [carrier_0, 3, agent_0]\n",
      "Workstation goal & state:\n",
      " - workstation_0:\n",
      " -- Supplies owned set()\n",
      " -- Supplies needed {[supply_3, Position(x=1, y=5), bolt], [supply_5, Position(x=1, y=5), tool], [supply_7, Position(x=1, y=5), gear], [supply_1, Position(x=1, y=5), valve]}\n",
      " - workstation_1:\n",
      " -- Supplies owned set()\n",
      " -- Supplies needed {[supply_0, Position(x=1, y=5), valve], [supply_6, Position(x=1, y=5), gear], [supply_4, Position(x=1, y=5), tool]}\n"
     ]
    },
    {
     "data": {
      "image/png": "[encoded data removed]",
      "text/plain": [
       "<Figure size 2000x1500 with 1 Axes>"
      ]
     },
     "metadata": {},
     "output_type": "display_data"
    },
    {
     "name": "stdout",
     "output_type": "stream",
     "text": [
      " - PDDL problem saved at: task_problems/problem_3/environments/environment_16/problem.hddl\n",
      " - Domain file copied to: task_problems/problem_3/environments/environment_16/domain.hddl\n",
      "PDDL:\n",
      " - PDDL objects:\n",
      " -- location: {'l4_3', 'l1_0', 'l1_3', 'l3_0', 'l1_1', 'l3_5', 'l2_5', 'l4_1', 'l1_4', 'l5_2', 'l5_5', 'l2_2', 'l5_3', 'l2_4', 'l5_1', 'l5_0', 'l1_2', 'l2_1', 'l3_3', 'l4_0', 'l1_5', 'l4_5', 'l2_0', 'l3_4', 'l4_2', 'l3_2', 'l2_3', 'l4_4', 'l5_4', 'l3_1'}\n",
      " -- agent: {'agent_0', 'agent_1'}\n",
      " -- supply: {'supply_1', 'supply_7', 'supply_0', 'supply_6', 'supply_5', 'supply_4', 'supply_3', 'supply_2'}\n",
      " -- box: {'box_12', 'box_5', 'box_1', 'box_17', 'box_8', 'box_16', 'box_11', 'box_7', 'box_2', 'box_4', 'box_19', 'box_10', 'box_6', 'box_3', 'box_14', 'box_15', 'box_9', 'box_0', 'box_13', 'box_18'}\n",
      " -- workstation: {'workstation_1', 'workstation_0'}\n",
      " -- warehouse: {'warehouse_0'}\n",
      " -- carrier: {'carrier_0', 'carrier_1'}\n",
      " -- supply_type: {'gear', 'valve', 'bolt', 'tool'}\n",
      " -- capacity: {'capacity_1', 'capacity_0', 'capacity_2', 'capacity_3'}\n",
      " - PDDL goals:\n",
      " -- task3 (t-deliver_supply workstation_0 valve)\n",
      " -- task1 (t-deliver_supply workstation_0 tool)\n",
      " -- task2 (t-deliver_supply workstation_0 gear)\n",
      " -- task6 (t-deliver_supply workstation_1 tool)\n",
      " -- task5 (t-deliver_supply workstation_1 gear)\n",
      " -- task4 (t-deliver_supply workstation_1 valve)\n",
      " -- task0 (t-deliver_supply workstation_0 bolt)\n"
     ]
    }
   ],
   "source": [
    "\n",
    "# Generate environment\n",
    "P3_LANG = 'hddl'\n",
    "\n",
    "p3_environment = Environment_generator(\n",
    "    configuration = p3_configurations.configurations['config_2'], \n",
    "    problem_id = 'P3', \n",
    "    verbose = True\n",
    ")\n",
    "\n",
    "p3_environment_pddl = Environment_toPDDL(\n",
    "    env = p3_environment, \n",
    "    baseline_path = 'task_problems/problem_3', \n",
    "    domain_type = 'no_flt', \n",
    "    lang = P3_LANG, \n",
    "    verbose = True\n",
    ")"
   ]
  },
  {
   "cell_type": "code",
   "execution_count": 3,
   "metadata": {},
   "outputs": [
    {
     "name": "stdout",
     "output_type": "stream",
     "text": [
      " - Command: java -jar ./src/PANDA.jar -parser hddl task_problems/problem_3/environments/environment_16/domain.hddl task_problems/problem_3/environments/environment_16/problem.hddl\n"
     ]
    }
   ],
   "source": [
    "# Generate plan\n",
    "\n",
    "PLANNER = 'panda'\n",
    "ARGS = '-parser hddl'\n",
    "ARGS_2 = ''\n",
    "planner_output = request_plan(p3_environment_pddl.path, PLANNER, ARGS, lang = P3_LANG, args_before=ARGS_2)\n",
    "\n",
    "print(planner_output.stderr)\n",
    "print(planner_output.stdout)"
   ]
  },
  {
   "cell_type": "markdown",
   "metadata": {},
   "source": [
    "### Problem 4\n"
   ]
  },
  {
   "cell_type": "code",
   "execution_count": null,
   "metadata": {},
   "outputs": [],
   "source": [
    "ENVIRONMENT_CONFIGURATION = 'config_3'\n",
    "P4_LANG = 'pddl'\n",
    "\n",
    "# Generate environment\n",
    "\n",
    "p4_environment = Environment_generator(\n",
    "    configuration = p4_configurations.configurations[ENVIRONMENT_CONFIGURATION], \n",
    "    problem_id = 'P4', \n",
    "    verbose = False\n",
    ")\n",
    "\n",
    "p4_environment_pddl = Environment_toPDDL(\n",
    "    env = p4_environment, \n",
    "    baseline_path = 'task_problems/problem_4', \n",
    "    domain_type = 'no_flt', \n",
    "    lang = P4_LANG, \n",
    "    verbose = False\n",
    ")"
   ]
  },
  {
   "cell_type": "code",
   "execution_count": null,
   "metadata": {},
   "outputs": [],
   "source": [
    "# Generate plan\n",
    "# optic args: -N\n",
    "# tfd args:\n",
    "\n",
    "PLANNER = 'tfd'\n",
    "ARGS = ''\n",
    "\n",
    "planner_output = request_plan(p4_environment_pddl.path, PLANNER, ARGS, lang=P4_LANG)\n",
    "\n",
    "print(planner_output.stderr)\n",
    "print(planner_output.stdout)"
   ]
  },
  {
   "cell_type": "markdown",
   "metadata": {},
   "source": [
    "### Problem 5 - Plansys2 commands generation (and test)"
   ]
  },
  {
   "cell_type": "code",
   "execution_count": null,
   "metadata": {},
   "outputs": [],
   "source": [
    "ENVIRONMENT_CONFIGURATION = 'config_1'\n",
    "\n",
    "# Generate environment\n",
    "P5_LANG = 'pddl'\n",
    "\n",
    "p5_environment = Environment_generator(\n",
    "    configuration = p4_configurations.configurations[ENVIRONMENT_CONFIGURATION], \n",
    "    problem_id = 'P5', \n",
    "    verbose = False\n",
    ")\n",
    "\n",
    "p5_environment_pddl = Environment_toPDDL(\n",
    "    env = p5_environment, \n",
    "    baseline_path = 'task_problems/problem_5', \n",
    "    domain_type = 'no_flt', \n",
    "    lang = P5_LANG, \n",
    "    verbose = False\n",
    ")\n",
    "\n",
    "ENVIRONMENT_FOLDER_PATH = p5_environment_pddl.path"
   ]
  },
  {
   "cell_type": "code",
   "execution_count": null,
   "metadata": {},
   "outputs": [],
   "source": [
    "# Generate plan\n",
    "\n",
    "PLANNER = 'optic'\n",
    "OPTIC_ARGS = '-N'\n",
    "print(ENVIRONMENT_FOLDER_PATH)\n",
    "planner_output = request_plan(ENVIRONMENT_FOLDER_PATH, PLANNER, OPTIC_ARGS, lang=P5_LANG)\n",
    "\n",
    "print(planner_output.stderr)\n",
    "print(planner_output.stdout)"
   ]
  },
  {
   "cell_type": "code",
   "execution_count": null,
   "metadata": {},
   "outputs": [],
   "source": []
  }
 ],
 "metadata": {
  "kernelspec": {
   "display_name": "Python 3",
   "language": "python",
   "name": "python3"
  },
  "language_info": {
   "codemirror_mode": {
    "name": "ipython",
    "version": 3
   },
   "file_extension": ".py",
   "mimetype": "text/x-python",
   "name": "python",
   "nbconvert_exporter": "python",
   "pygments_lexer": "ipython3",
   "version": "3.10.12"
  }
 },
 "nbformat": 4,
 "nbformat_minor": 2
}
