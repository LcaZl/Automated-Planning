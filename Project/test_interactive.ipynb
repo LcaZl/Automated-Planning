{
 "cells": [
  {
   "cell_type": "markdown",
   "metadata": {},
   "source": [
    "## Project interactive environment and plan generation\n",
    "\n",
    "For each problem:\n",
    "- First cell allow to generate the environment and the related PDDL problem.\n",
    "- The problem is saved at the specified baseline_path\n",
    "- Second cell allow to generate a plan. The path specified must point to a directory with a problem and a domain.\n",
    "- The attribute .path of the Environment_toPDDL object point to the generated environemt problem.\n",
    "\n",
    "Predefined environment configurations available: config_0, config_1 & config_2."
   ]
  },
  {
   "cell_type": "code",
   "execution_count": 1,
   "metadata": {},
   "outputs": [],
   "source": [
    "from src.functions import *\n",
    "from src.environment_generator import *\n",
    "from src.environment_toPddl import *\n",
    "import task_problems.problem_1.environment_configurations as p1_configurations\n",
    "import task_problems.problem_2.environment_configurations as p2_configurations\n",
    "import task_problems.problem_2_flt.environment_configurations as p2_flt_configurations\n",
    "import task_problems.problem_3.environment_configurations as p3_configurations\n",
    "import task_problems.problem_3.environment_configurations as p4_configurations"
   ]
  },
  {
   "cell_type": "markdown",
   "metadata": {},
   "source": [
    "### Problem 1\n"
   ]
  },
  {
   "cell_type": "code",
   "execution_count": 2,
   "metadata": {},
   "outputs": [
    {
     "name": "stdout",
     "output_type": "stream",
     "text": [
      "Environment info:\n",
      " - Environment size: 7x7\n",
      " - Active area: 20 (40.816326530612244%)\n",
      " - Warehouses: 1\n",
      " - Agents: 1\n",
      " - Workstations: 3\n",
      " - Supply types: 3\n",
      " - Supplies: 9\n",
      " - Boxes available: 10\n",
      "Examples:\n",
      " - Warehouse encoded: [warehouse_0, Position(x=3, y=5)]\n",
      " - Agent encoded: [agent_0, Position(x=3, y=5)]\n",
      " - Workstation encoded: [workstation_0, Position(x=2, y=2), O:set(), N:{[supply_5, Position(x=3, y=5), bolt], [supply_8, Position(x=3, y=5), tool]}]\n",
      " - Supplies encoded: ('supply_0', [supply_0, Position(x=3, y=5), valve])\n",
      " - Box encoded: [box_0, Position(x=3, y=5)]\n",
      "Workstation goal & state:\n",
      " - workstation_0:\n",
      " -- Supplies owned set()\n",
      " -- Supplies needed {[supply_5, Position(x=3, y=5), bolt], [supply_8, Position(x=3, y=5), tool]}\n",
      " - workstation_1:\n",
      " -- Supplies owned set()\n",
      " -- Supplies needed {[supply_7, Position(x=3, y=5), tool], [supply_2, Position(x=3, y=5), valve], [supply_4, Position(x=3, y=5), bolt]}\n",
      " - workstation_2:\n",
      " -- Supplies owned set()\n",
      " -- Supplies needed {[supply_3, Position(x=3, y=5), bolt], [supply_1, Position(x=3, y=5), valve], [supply_6, Position(x=3, y=5), tool]}\n"
     ]
    },
    {
     "data": {
      "image/png": "[encoded data removed]",
      "text/plain": [
       "<Figure size 2000x1500 with 1 Axes>"
      ]
     },
     "metadata": {},
     "output_type": "display_data"
    },
    {
     "name": "stdout",
     "output_type": "stream",
     "text": [
      " - PDDL problem saved at: task_problems/problem_1/environments/environment_4/problem.pddl\n",
      " - Domain file copied to: task_problems/problem_1/environments/environment_4/domain.pddl\n",
      "PDDL:\n",
      " - PDDL objects:\n",
      " -- location: {'l2_4', 'l1_3', 'l1_1', 'l3_3', 'l1_2', 'l3_2', 'l3_5', 'l3_0', 'l2_2', 'l3_4', 'l1_5', 'l2_0', 'l2_3', 'l1_6', 'l2_5', 'l3_1', 'l3_6', 'l2_6', 'l1_4', 'l2_1'}\n",
      " -- agent: {'agent_0'}\n",
      " -- supply: {'supply_8', 'supply_3', 'supply_5', 'supply_0', 'supply_2', 'supply_7', 'supply_6', 'supply_1', 'supply_4'}\n",
      " -- box: {'box_4', 'box_8', 'box_9', 'box_7', 'box_1', 'box_2', 'box_0', 'box_5', 'box_6', 'box_3'}\n",
      " -- workstation: {'workstation_2', 'workstation_0', 'workstation_1'}\n",
      " -- warehouse: {'warehouse_0'}\n",
      " -- carrier: set()\n",
      " -- supply_type: {'valve', 'bolt', 'tool'}\n",
      " -- capacity: set()\n",
      " - PDDL goals:\n",
      " 0 -- has workstation_0 bolt\n",
      " 1 -- has workstation_0 tool\n",
      " 2 -- has workstation_1 tool\n",
      " 3 -- has workstation_1 valve\n",
      " 4 -- has workstation_1 bolt\n",
      " 5 -- has workstation_2 bolt\n",
      " 6 -- has workstation_2 valve\n",
      " 7 -- has workstation_2 tool\n"
     ]
    }
   ],
   "source": [
    "# Generate environment\n",
    "P1_LANG = 'pddl'\n",
    "\n",
    "p1_environment = Environment_generator(\n",
    "    configuration = p1_configurations.configurations['config_0'], # Id of the configuration from file\n",
    "    problem_id = 'P1',  # Id of the project task\n",
    "    verbose = True # To show information about the generated environment\n",
    ")\n",
    "\n",
    "p1_environment_pddl = Environment_toPDDL(\n",
    "    env = p1_environment, # Generated environment\n",
    "    baseline_path = 'task_problems/problem_1', # Path where the new environment folder will be saved\n",
    "    lang = P1_LANG, # requested language, pddl or hddl\n",
    "    verbose = True # Show information about the generated PDDL/HDDL problem.\n",
    ")"
   ]
  },
  {
   "cell_type": "code",
   "execution_count": null,
   "metadata": {},
   "outputs": [],
   "source": [
    "# Generate plan\n",
    "\n",
    "# ff args:\n",
    "\n",
    "# bfws args:\n",
    "# 0 (empty)\n",
    "# 1 --max_novelty 0 --use-hff 1\n",
    "# 2 --BFWS-f5-landmarks 1\n",
    "# 3 --k-BFWS 1 --max_novelty 2\n",
    "# (novelty: The novelty parameter of a planner is a heuristic used to guide the search process by focusing on exploring states (or action sequences) that are novel or unique in some way compared to previously visited states).\n",
    "\n",
    "# downward args:\n",
    "# 0 - --alias lama-first (ARGS_BEFORE)\n",
    "# 1 - --search \"astar(add(cache_estimates=true))\"\n",
    "# 2 - --search \"astar(cea(transform=no_transform(),cache_estimates=true))\"\n",
    "# 3 - --search \"eager_greedy([add(cache_estimates=true),cea(transform=no_transform(),cache_estimates=true)])\"\n",
    "\n",
    "PLANNER = 'dual-bfws-ffparser'  # dual-bfws-ffparser, ff, downward\n",
    "ARGS = '--k-BFWS 1 --max_novelty 2'  \n",
    "ARGS_BEFORE = ''\n",
    "\n",
    "MANUAL_PATH = '/home/luca/Desktop/Projects/Automated-Planning/Project/task_problems/problem_1/environments/environment_2'\n",
    "# or p1_environment_pddl.path\n",
    "\n",
    "output = request_plan(p1_environment_pddl.path, PLANNER, ARGS, lang = 'pddl', args_before = ARGS_BEFORE)\n",
    "print(output.stdout)\n",
    "print(output.stderr)"
   ]
  },
  {
   "cell_type": "markdown",
   "metadata": {},
   "source": [
    "### Problem 2"
   ]
  },
  {
   "cell_type": "code",
   "execution_count": null,
   "metadata": {},
   "outputs": [],
   "source": [
    "# Generate environment\n",
    "\n",
    "P2_LANG = 'pddl'\n",
    "\n",
    "p2_environment = Environment_generator(\n",
    "    configuration = p2_configurations.configurations['config_0'], \n",
    "    problem_id = 'P2', \n",
    "    verbose = True\n",
    ")\n",
    "\n",
    "p2_environment_pddl = Environment_toPDDL(\n",
    "    env = p2_environment, \n",
    "    baseline_path = 'task_problems/problem_2', \n",
    "    domain_type = 'no_flt', \n",
    "    lang = P2_LANG, \n",
    "    verbose = True\n",
    ")"
   ]
  },
  {
   "cell_type": "code",
   "execution_count": null,
   "metadata": {},
   "outputs": [],
   "source": [
    "# Generate plan\n",
    "\n",
    "# ff args:\n",
    "\n",
    "# bfws args:\n",
    "# 0 (empty)\n",
    "# 1 --max_novelty 0 --use-hff 1\n",
    "# 2 --BFWS-f5-landmarks 1\n",
    "# 3 --k-BFWS 1 --max_novelty 2 (best plan cost)\n",
    "\n",
    "# downward args:\n",
    "# 0 - --alias lama-first (ARGS_BEFORE)\n",
    "# 1 - --search \"astar(add(cache_estimates=true))\"\n",
    "# 2 - --search \"astar(cea(transform=no_transform(),cache_estimates=true))\"\n",
    "# 3 - --search \"eager_greedy([add(cache_estimates=true),cea(transform=no_transform(),cache_estimates=true)])\"\n",
    "\n",
    "PLANNER = 'downward'  # dual-bfws-ffparser, ff, downward\n",
    "ARGS = '--search \"eager_greedy([add(cache_estimates=true),cea(transform=no_transform(),cache_estimates=true)])\"'  \n",
    "ARGS_BEFORE = ''\n",
    "\n",
    "MANUAL_PATH = '/home/luca/Desktop/Projects/Automated-Planning/Project/task_problems/problem_2/environments/environment_2'\n",
    "# or p2_environment_pddl.path\n",
    "\n",
    "output = request_plan(p2_environment_pddl.path, PLANNER, ARGS, lang = 'pddl', args_before = ARGS_BEFORE)\n",
    "print(output.stdout)\n",
    "print(output.stderr)"
   ]
  },
  {
   "cell_type": "markdown",
   "metadata": {},
   "source": [
    "### Problem 2 - With fluents"
   ]
  },
  {
   "cell_type": "code",
   "execution_count": null,
   "metadata": {},
   "outputs": [],
   "source": [
    "# Generate environment\n",
    "\n",
    "P2_FLT_LANG = 'pddl'\n",
    "\n",
    "p2_flt_environment = Environment_generator(\n",
    "    configuration = p2_flt_configurations.configurations['config_0'], \n",
    "    problem_id = 'P2', \n",
    "    verbose = True\n",
    ")\n",
    "\n",
    "p2_flt_environment_pddl = Environment_toPDDL(\n",
    "    env = p2_flt_environment, \n",
    "    baseline_path = 'task_problems/problem_2_flt', \n",
    "    domain_type = 'flt', \n",
    "    lang = P2_FLT_LANG, \n",
    "    verbose = True\n",
    ")"
   ]
  },
  {
   "cell_type": "code",
   "execution_count": null,
   "metadata": {},
   "outputs": [],
   "source": [
    "# Generate plan\n",
    "\n",
    "# metric-ff\n",
    "# 0 (empty)\n",
    "\n",
    "# bfws args:\n",
    "# 1 (empty)\n",
    "# 2 --max_novelty 0 --use-hff 1\n",
    "# 3 --BFWS-f5-landmarks 1\n",
    "# 4 --k-BFWS 1 --max_novelty 2\n",
    "\n",
    "PLANNER = 'dual-bfws-ffparser'  # dual-bfws-ffparser, metric-ff\n",
    "ARGS = ''  \n",
    "\n",
    "MANUAL_PATH = '/home/luca/Desktop/Projects/Automated-Planning/Project/task_problems/problem_2_flt/environments/environment_2'\n",
    "# or p2_flt_environment_pddl.path\n",
    "\n",
    "output = request_plan(p2_flt_environment_pddl.path, PLANNER, ARGS, lang = 'pddl')\n",
    "print(output.stdout)\n",
    "print(output.stderr)"
   ]
  },
  {
   "cell_type": "markdown",
   "metadata": {},
   "source": [
    "### Problem 3\n"
   ]
  },
  {
   "cell_type": "code",
   "execution_count": null,
   "metadata": {},
   "outputs": [],
   "source": [
    "\n",
    "# Generate environment\n",
    "P3_LANG = 'hddl'\n",
    "\n",
    "p3_environment = Environment_generator(\n",
    "    configuration = p3_configurations.configurations['config_0'], \n",
    "    problem_id = 'P3', \n",
    "    verbose = False\n",
    ")\n",
    "\n",
    "p3_environment_hddl = Environment_toPDDL(\n",
    "    env = p3_environment, \n",
    "    baseline_path = 'task_problems/problem_3', \n",
    "    domain_type = 'no_flt', \n",
    "    lang = P3_LANG, \n",
    "    verbose = True\n",
    ")"
   ]
  },
  {
   "cell_type": "code",
   "execution_count": null,
   "metadata": {},
   "outputs": [],
   "source": [
    "# Generate plan\n",
    "\n",
    "# panda args:\n",
    "# 0 (empty)\n",
    "# -searchAlgorithm greedy -heuristic tdg-m -prune planLength\n",
    "\n",
    "PLANNER = 'panda' \n",
    "ARGS = '-timelimit 300 -parser hddl'\n",
    "\n",
    "MANUAL_PATH = '/home/luca/Desktop/Projects/Automated-Planning/Project/task_problems/problem_3/environments/environment_0'\n",
    "# or p3_environment_hddl.path\n",
    "\n",
    "output = request_plan(p3_environment_hddl.path, PLANNER, ARGS, lang = 'hddl')\n",
    "print(output.stdout)\n",
    "print(output.stderr)"
   ]
  },
  {
   "cell_type": "markdown",
   "metadata": {},
   "source": [
    "### Problem 4\n"
   ]
  },
  {
   "cell_type": "code",
   "execution_count": 4,
   "metadata": {},
   "outputs": [
    {
     "name": "stdout",
     "output_type": "stream",
     "text": [
      " - PDDL problem saved at: task_problems/problem_4/environments/environment_4/problem.pddl\n",
      " - Domain file copied to: task_problems/problem_4/environments/environment_4/domain.pddl\n",
      "PDDL:\n",
      " - PDDL objects:\n",
      " -- location: {'l2_4', 'l1_3', 'l4_1', 'l1_1', 'l0_4', 'l3_3', 'l1_2', 'l3_2', 'l3_0', 'l2_2', 'l3_4', 'l4_2', 'l2_0', 'l4_3', 'l2_3', 'l3_1', 'l1_4', 'l2_1', 'l4_0', 'l4_4'}\n",
      " -- agent: {'agent_1', 'agent_0'}\n",
      " -- supply: {'supply_3', 'supply_5', 'supply_0', 'supply_2', 'supply_1', 'supply_4'}\n",
      " -- box: {'box_3', 'box_1', 'box_2', 'box_0'}\n",
      " -- workstation: {'workstation_0', 'workstation_1'}\n",
      " -- warehouse: {'warehouse_0'}\n",
      " -- carrier: {'carrier_0', 'carrier_1'}\n",
      " -- supply_type: {'valve', 'bolt', 'tool'}\n",
      " -- capacity: {'capacity_2', 'capacity_1', 'capacity_0'}\n",
      " - PDDL goals:\n",
      " 0 -- has workstation_0 bolt\n",
      " 1 -- has workstation_1 bolt\n",
      " 2 -- has workstation_1 valve\n",
      " 3 -- has workstation_1 tool\n"
     ]
    }
   ],
   "source": [
    "P4_LANG = 'pddl'\n",
    "\n",
    "# Generate environment\n",
    "\n",
    "p4_environment = Environment_generator(\n",
    "    configuration = p4_configurations.configurations['config_0'], \n",
    "    problem_id = 'P4', \n",
    "    verbose = False\n",
    ")\n",
    "\n",
    "p4_environment_pddl = Environment_toPDDL(\n",
    "    env = p4_environment, \n",
    "    baseline_path = 'task_problems/problem_4', \n",
    "    domain_type = 'no_flt', \n",
    "    lang = P4_LANG, \n",
    "    verbose = True\n",
    ")"
   ]
  },
  {
   "cell_type": "code",
   "execution_count": null,
   "metadata": {},
   "outputs": [],
   "source": [
    "# Generate plan\n",
    "\n",
    "# tfd args:\n",
    "# 0 (empty)\n",
    "\n",
    "# optic args:\n",
    "# 0 (empty)\n",
    "\n",
    "PLANNER = 'tfd' \n",
    "# 0 -N \n",
    "# 1 -N -c\n",
    "# 2 -N -e\n",
    "# 3 -N -e -c\n",
    "\n",
    "ARGS = ''  \n",
    "ARGS_BEFORE = ''\n",
    "MANUAL_PATH = '/home/luca/Desktop/Projects/Automated-Planning/Project/task_problems/problem_4/environments/environment_2'\n",
    "\n",
    "# or p4_environment_pddl.path\n",
    "output = request_plan(p4_environment_pddl.path, PLANNER, ARGS, lang = 'pddl', args_before = ARGS_BEFORE)\n",
    "print(output.stdout)\n",
    "print(output.stderr)"
   ]
  },
  {
   "cell_type": "markdown",
   "metadata": {},
   "source": [
    "### Problem 5 - Plansys2 commands generation (and test)\n",
    "\n",
    "This part will generate as standard the environment, saving it in problem_5 folder. \n",
    "\n",
    "It also generate a commands file which rapresents the environment initial state translated to be used as input for Plansys2. These commands can be copied inside p5_pkg/launch/commands."
   ]
  },
  {
   "cell_type": "code",
   "execution_count": 3,
   "metadata": {},
   "outputs": [
    {
     "name": "stdout",
     "output_type": "stream",
     "text": [
      "Environment info:\n",
      " - Environment size: 5x5\n",
      " - Active area: 20 (80.0%)\n",
      " - Warehouses: 1\n",
      " - Agents: 2\n",
      " - Workstations: 2\n",
      " - Supply types: 3\n",
      " - Supplies: 6\n",
      " - Boxes available: 4\n",
      " - Carriers: 2\n",
      "Examples:\n",
      " - Warehouse encoded: [warehouse_0, Position(x=2, y=4)]\n",
      " - Agent encoded: [agent_0, Position(x=2, y=4)]\n",
      " - Workstation encoded: [workstation_0, Position(x=2, y=1), O:{[supply_1, Position(x=2, y=4), valve]}, N:{[supply_3, Position(x=2, y=4), bolt], [supply_5, Position(x=2, y=4), tool]}]\n",
      " - Supplies encoded: ('supply_0', [supply_0, Position(x=2, y=4), valve])\n",
      " - Box encoded: [box_0, Position(x=2, y=4)]\n",
      " - Carriers encoded: [carrier_0, 2, agent_0]\n",
      "Workstation goal & state:\n",
      " - workstation_0:\n",
      " -- Supplies owned {[supply_1, Position(x=2, y=4), valve]}\n",
      " -- Supplies needed {[supply_3, Position(x=2, y=4), bolt], [supply_5, Position(x=2, y=4), tool]}\n",
      " - workstation_1:\n",
      " -- Supplies owned set()\n",
      " -- Supplies needed {[supply_2, Position(x=2, y=4), bolt], [supply_4, Position(x=2, y=4), tool]}\n"
     ]
    },
    {
     "data": {
      "image/png": "[encoded data removed]",
      "text/plain": [
       "<Figure size 2000x1500 with 1 Axes>"
      ]
     },
     "metadata": {},
     "output_type": "display_data"
    },
    {
     "name": "stdout",
     "output_type": "stream",
     "text": [
      " - PDDL problem saved at: task_problems/problem_5/environments/environment_2/problem.pddl\n",
      " - Domain file copied to: task_problems/problem_5/environments/environment_2/domain.pddl\n",
      " - Ros2 commands saved at: task_problems/problem_5/environments/environment_2/commands\n",
      "PDDL:\n",
      " - PDDL objects:\n",
      " -- location: {'l2_4', 'l1_3', 'l4_1', 'l1_1', 'l0_4', 'l3_3', 'l1_2', 'l3_2', 'l3_0', 'l2_2', 'l3_4', 'l4_2', 'l2_0', 'l4_3', 'l2_3', 'l3_1', 'l1_4', 'l2_1', 'l4_0', 'l4_4'}\n",
      " -- agent: {'agent_1', 'agent_0'}\n",
      " -- supply: {'supply_3', 'supply_5', 'supply_0', 'supply_2', 'supply_1', 'supply_4'}\n",
      " -- box: {'box_3', 'box_1', 'box_2', 'box_0'}\n",
      " -- workstation: {'workstation_0', 'workstation_1'}\n",
      " -- warehouse: {'warehouse_0'}\n",
      " -- carrier: {'carrier_0', 'carrier_1'}\n",
      " -- supply_type: {'valve', 'bolt', 'tool'}\n",
      " -- capacity: {'capacity_2', 'capacity_1', 'capacity_0'}\n",
      " - PDDL goals:\n",
      " 0 -- has workstation_0 bolt\n",
      " 1 -- has workstation_0 tool\n",
      " 2 -- has workstation_1 bolt\n",
      " 3 -- has workstation_1 tool\n"
     ]
    }
   ],
   "source": [
    "# Generate environment\n",
    "\n",
    "P5_LANG = 'pddl'\n",
    "\n",
    "p5_environment = Environment_generator(\n",
    "    configuration = p4_configurations.configurations['config_0'], \n",
    "    problem_id = 'P5', \n",
    "    verbose = True\n",
    ")\n",
    "\n",
    "p5_environment_pddl = Environment_toPDDL(\n",
    "    env = p5_environment, \n",
    "    baseline_path = 'task_problems/problem_5', \n",
    "    domain_type = 'no_flt', \n",
    "    lang = P5_LANG, \n",
    "    verbose = True\n",
    ")"
   ]
  },
  {
   "cell_type": "code",
   "execution_count": null,
   "metadata": {},
   "outputs": [],
   "source": [
    "# Generate plan\n",
    "\n",
    "# tfd args:\n",
    "# 0 (empty)\n",
    "\n",
    "# optic args:\n",
    "# 0 (empty)\n",
    "\n",
    "PLANNER = 'tfd' \n",
    "#-1 -N 20s \n",
    "# 3 -N -c\n",
    "# 4 -N -e\n",
    "# 5 -N -e -c\n",
    "\n",
    "ARGS = ''  \n",
    "ARGS_BEFORE = ''\n",
    "MANUAL_PATH = '/home/luca/Desktop/Projects/Automated-Planning/Project/task_problems/problem_5/environments/environment_2'\n",
    "\n",
    "# or p5_environment_pddl.path\n",
    "output = request_plan(p5_environment_pddl.path, PLANNER, ARGS, lang = 'pddl', args_before = ARGS_BEFORE)\n",
    "print(output.stdout)\n",
    "print(output.stderr)"
   ]
  },
  {
   "cell_type": "code",
   "execution_count": null,
   "metadata": {},
   "outputs": [],
   "source": []
  }
 ],
 "metadata": {
  "kernelspec": {
   "display_name": "Python 3",
   "language": "python",
   "name": "python3"
  },
  "language_info": {
   "codemirror_mode": {
    "name": "ipython",
    "version": 3
   },
   "file_extension": ".py",
   "mimetype": "text/x-python",
   "name": "python",
   "nbconvert_exporter": "python",
   "pygments_lexer": "ipython3",
   "version": "3.10.12"
  }
 },
 "nbformat": 4,
 "nbformat_minor": 2
}
