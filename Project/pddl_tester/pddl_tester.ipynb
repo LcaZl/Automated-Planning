{
 "cells": [
  {
   "cell_type": "code",
   "execution_count": 8,
   "metadata": {},
   "outputs": [
    {
     "name": "stdout",
     "output_type": "stream",
     "text": [
      "CompletedProcess(args='docker exec 6f00effd48744f17ea67bd3b540a686d05e8eeb12adf3e527badfb2dea965dff planutils run optic domain.pddl problem.pddl', returncode=0, stdout='', stderr='Segmentation fault\\n')\n"
     ]
    }
   ],
   "source": [
    "import subprocess\n",
    "from collections import namedtuple\n",
    "\n",
    "def request_plan(domain_path, problem_path, planner, container_name):\n",
    "    # Define the Docker command to run the planner within the Docker container\n",
    "    # Ensure that domain_path and problem_path are accessible within the Docker container\n",
    "    command = f'docker exec {container_name} planutils run {planner} {domain_path} {problem_path}'\n",
    "\n",
    "    # Execute the command\n",
    "    result = subprocess.run(command, capture_output=True, text=True, shell=True)\n",
    "\n",
    "    # Print or process the output\n",
    "    print(result)\n",
    "    return result.stderr\n",
    "\n",
    "# Your Docker container's name or ID\n",
    "CONTAINER_NAME = '6f00effd48744f17ea67bd3b540a686d05e8eeb12adf3e527badfb2dea965dff'\n",
    "\n",
    "# Assuming DOMAIN_FILE_PATH and PROBLEM_FILE_PATH are paths accessible within the Docker container\n",
    "PLANNER = 'optic'\n",
    "DOMAIN_FILE_PATH = 'domain.pddl'  # Adjust if necessary to the path inside the container\n",
    "PROBLEM_FILE_PATH = 'problem.pddl'  # Adjust if necessary to the path inside the container\n",
    "\n",
    "# Request the plan\n",
    "plan = request_plan(DOMAIN_FILE_PATH, PROBLEM_FILE_PATH, PLANNER, CONTAINER_NAME)\n"
   ]
  },
  {
   "cell_type": "code",
   "execution_count": null,
   "metadata": {},
   "outputs": [],
   "source": []
  },
  {
   "cell_type": "code",
   "execution_count": null,
   "metadata": {},
   "outputs": [],
   "source": []
  }
 ],
 "metadata": {
  "kernelspec": {
   "display_name": "Python 3",
   "language": "python",
   "name": "python3"
  },
  "language_info": {
   "codemirror_mode": {
    "name": "ipython",
    "version": 3
   },
   "file_extension": ".py",
   "mimetype": "text/x-python",
   "name": "python",
   "nbconvert_exporter": "python",
   "pygments_lexer": "ipython3",
   "version": "3.10.12"
  }
 },
 "nbformat": 4,
 "nbformat_minor": 2
}
