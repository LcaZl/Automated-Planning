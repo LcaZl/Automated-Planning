{
 "cells": [
  {
   "cell_type": "markdown",
   "metadata": {},
   "source": [
    "## Generate Environements\n",
    "\n",
    "For each project problem:\n",
    "- Generate an environment for each configuration specified in correspondant file.\n",
    "- Generate related problem.\n",
    "- Solve it with each planner configuration specified.\n",
    "\n",
    "Note: The planner and related args must have the same position in PLANNERS and ARGS arrays."
   ]
  },
  {
   "cell_type": "code",
   "execution_count": null,
   "metadata": {},
   "outputs": [],
   "source": [
    "from src.functions import *\n",
    "from src.environment_generator import *\n",
    "from src.environment_toPddl import *\n",
    "import task_problems.problem_1.environment_configurations as p1_configurations\n",
    "import task_problems.problem_2.environment_configurations as p2_configurations\n",
    "import task_problems.problem_3.environment_configurations as p3_configurations\n",
    "import task_problems.problem_3.environment_configurations as p4_configurations"
   ]
  },
  {
   "cell_type": "markdown",
   "metadata": {},
   "source": [
    "### Problem 1\n"
   ]
  },
  {
   "cell_type": "code",
   "execution_count": null,
   "metadata": {},
   "outputs": [],
   "source": [
    "PLANNERS = ['dual-bfws-ffparser','ff','lama-first','downward']  # Nome del planner - dual-bfws-ffparser\n",
    "ARGS = ['--max_novelty 2 --use-hff 1','','','']  # Argomenti aggiuntivi per il planner\n",
    "\n",
    "DOWNWARD_ALIAS = '--alias lama-first'\n",
    "\n",
    "for config_name, config_settings in p1_configurations.configurations.items():\n",
    "\n",
    "    print(f\"\\n\\n{config_name}: {config_settings}\")\n",
    "\n",
    "    p1_environment = Environment_generator(\n",
    "        configuration = config_settings, \n",
    "        problem_id = 'P1', \n",
    "        verbose=False\n",
    "    )\n",
    "    p1_environment_pddl = Environment_toPDDL(\n",
    "        env = p1_environment, \n",
    "        baseline_path = 'task_problems/problem_1',\n",
    "        domain_type = 'no_flt',\n",
    "        lang = 'pddl', \n",
    "        verbose = False\n",
    "    )\n",
    "\n",
    "    ENVIRONMENT_FOLDER_PATH = p1_environment_pddl.path\n",
    "\n",
    "    for planner, args in zip(PLANNERS, ARGS):\n",
    "        print(f'\\n - Planner : {planner}')\n",
    "        print(f' -- Args: {args}')\n",
    "\n",
    "        args_before = (DOWNWARD_ALIAS if planner == 'downward' else '')\n",
    "        output = request_plan(ENVIRONMENT_FOLDER_PATH, planner, args, lang = 'pddl', args_before = args_before)"
   ]
  },
  {
   "cell_type": "markdown",
   "metadata": {},
   "source": [
    "### Problem 2"
   ]
  },
  {
   "cell_type": "code",
   "execution_count": null,
   "metadata": {},
   "outputs": [],
   "source": [
    "PLANNERS = ['dual-bfws-ffparser', 'ff', 'lama-first','downward']  # Nome del planner - dual-bfws-ffparser\n",
    "ARGS = ['--max_novelty 2 --use-hff 1','','','']  # Argomenti aggiuntivi per il planner\n",
    "DOWNWARD_ALIAS = '--alias lama-first'\n",
    "\n",
    "for config_name, config_settings in p2_configurations.configurations.items():\n",
    "\n",
    "    print(f\"\\n\\n{config_name}: {config_settings}\")\n",
    "\n",
    "    p2_environment = Environment_generator(\n",
    "        configuration = config_settings, \n",
    "        problem_id = 'P2', \n",
    "        verbose=False\n",
    "    )\n",
    "    p2_environment_pddl = Environment_toPDDL(\n",
    "        env = p2_environment, \n",
    "        baseline_path = 'task_problems/problem_2',\n",
    "        domain_type = 'no_flt',\n",
    "        lang = 'pddl', \n",
    "        verbose = False\n",
    "    )\n",
    "\n",
    "    ENVIRONMENT_FOLDER_PATH = p2_environment_pddl.path\n",
    "\n",
    "    for planner, args in zip(PLANNERS, ARGS):\n",
    "        print(f'\\n - Planner : {planner}')\n",
    "        print(f' -- Args: {args}')\n",
    "        args_before = (DOWNWARD_ALIAS if planner == 'downward' else '')\n",
    "\n",
    "        output = request_plan(ENVIRONMENT_FOLDER_PATH, planner, args, lang = 'pddl', args_before = args_before)"
   ]
  },
  {
   "cell_type": "markdown",
   "metadata": {},
   "source": [
    "### Problem 3"
   ]
  },
  {
   "cell_type": "code",
   "execution_count": null,
   "metadata": {},
   "outputs": [],
   "source": [
    "PLANNERS = ['panda']  # Nome del planner - dual-bfws-ffparser\n",
    "ARGS = ['-parser hddl']  # Argomenti aggiuntivi per il planner\n",
    "\n",
    "for config_name, config_settings in p3_configurations.configurations.items():\n",
    "\n",
    "    print(f\"\\n\\n{config_name}: {config_settings}\")\n",
    "\n",
    "    p3_environment = Environment_generator(\n",
    "        configuration = config_settings, \n",
    "        problem_id = 'P3', \n",
    "        verbose=False\n",
    "    )\n",
    "    p3_environment_pddl = Environment_toPDDL(\n",
    "        env = p3_environment, \n",
    "        baseline_path = 'task_problems/problem_3',\n",
    "        domain_type = 'no_flt',\n",
    "        lang = 'hddl', \n",
    "        verbose = False\n",
    "    )\n",
    "\n",
    "    ENVIRONMENT_FOLDER_PATH = p3_environment_pddl.path\n",
    "\n",
    "    for planner, args in zip(PLANNERS, ARGS):\n",
    "        print(f'\\n - Planner : {planner}')\n",
    "        print(f' -- Args: {args}')\n",
    "\n",
    "        output = request_plan(ENVIRONMENT_FOLDER_PATH, planner, args, lang = 'hddl')"
   ]
  },
  {
   "cell_type": "markdown",
   "metadata": {},
   "source": [
    "### Problem 4"
   ]
  },
  {
   "cell_type": "code",
   "execution_count": null,
   "metadata": {},
   "outputs": [],
   "source": [
    "PLANNERS = ['tfd','optic']  # Nome del planner - dual-bfws-ffparser\n",
    "ARGS = ['','-N']  # Argomenti aggiuntivi per il planner\n",
    "\n",
    "for config_name, config_settings in p4_configurations.configurations.items():\n",
    "\n",
    "    print(f\"\\n\\n{config_name}: {config_settings}\")\n",
    "\n",
    "    p4_environment = Environment_generator(\n",
    "        configuration = config_settings, \n",
    "        problem_id = 'P4', \n",
    "        verbose=False\n",
    "    )\n",
    "    p4_environment_pddl = Environment_toPDDL(\n",
    "        env = p4_environment, \n",
    "        baseline_path = 'task_problems/problem_4',\n",
    "        domain_type = 'no_flt',\n",
    "        lang = 'pddl', \n",
    "        verbose = False\n",
    "    )\n",
    "\n",
    "    ENVIRONMENT_FOLDER_PATH = p4_environment_pddl.path\n",
    "\n",
    "    for planner, args in zip(PLANNERS, ARGS):\n",
    "        print(f'\\n - Planner : {planner}')\n",
    "        print(f' -- Args: {args}')\n",
    "        \n",
    "        output = request_plan(ENVIRONMENT_FOLDER_PATH, planner, args, lang = 'pddl')"
   ]
  }
 ],
 "metadata": {
  "kernelspec": {
   "display_name": "Python 3",
   "language": "python",
   "name": "python3"
  },
  "language_info": {
   "codemirror_mode": {
    "name": "ipython",
    "version": 3
   },
   "file_extension": ".py",
   "mimetype": "text/x-python",
   "name": "python",
   "nbconvert_exporter": "python",
   "pygments_lexer": "ipython3",
   "version": "3.10.12"
  }
 },
 "nbformat": 4,
 "nbformat_minor": 2
}
